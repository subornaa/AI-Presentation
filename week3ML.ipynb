{
 "cells": [
  {
   "cell_type": "markdown",
   "metadata": {},
   "source": [
    "# <div align=\"center\">Framework and Programming</div>\n",
    "\n",
    "***"
   ]
  },
  {
   "cell_type": "markdown",
   "metadata": {},
   "source": [
    "### Problem-solving Framework\n",
    "\n",
    "1. Get to know your data\n",
    "    + How is it organized? What shape is it?\n",
    "    + Are there missing values?\n",
    "    + How big is it?\n",
    "2. State your objective\n",
    "    + What should my output look like? How will I know if I’m successful?\n",
    "3. Decide on an algorithm\n",
    "    + Supervised or unsupervised?\n",
    "    + How simple or complex?\n",
    "4. Build and run a model\n",
    "5. Assess your results\n",
    "    + Are they what I expected?\n",
    "    + How could I improve my results?\n",
    "* Do some basic exploration with the resul"
   ]
  },
  {
   "cell_type": "markdown",
   "metadata": {},
   "source": [
    "### Concern and Application Plan\n",
    "* What happens if we apply this ML method to brand-new data?\n"
   ]
  },
  {
   "cell_type": "markdown",
   "metadata": {},
   "source": [
    "### Debriefing the Results\n",
    "* How did our classifier perform?\n",
    "     + What measures did you use to assess?\n",
    "* Did it do as well as you expected? \n",
    "* How could you improve its performance?"
   ]
  },
  {
   "cell_type": "markdown",
   "metadata": {},
   "source": [
    "### Programming Languages:\n",
    "\n",
    "* Python\n",
    "* R/RStudio\n",
    "\n"
   ]
  },
  {
   "attachments": {},
   "cell_type": "markdown",
   "metadata": {},
   "source": [
    "## scikit-learn \n",
    "\n",
    "+ Arguably the most popular language for ML\n",
    "+ By the far the most popular module is scikit-learn\n",
    "+ So popular that it comes prepackaged with Anaconda!\n",
    "+ scikit-learn is built on top of NumPy, SciPy, and matplotlib\n",
    "+ Open source with a very active community\n",
    "+ Tons of tools and algorithms ready to go\n",
    "+ Built-in sample datasets to practice and explore!\n",
    "+ `sklearn` is an alias for scikit-learn.\n",
    "\n",
    "<br>\n",
    "<br>\n",
    "\n",
    "![scikit](scikit.png)\n",
    "\n",
    "<br>\n",
    "<br>"
   ]
  }
 ],
 "metadata": {
  "kernelspec": {
   "display_name": "Python 3 (ipykernel)",
   "language": "python",
   "name": "python3"
  },
  "language_info": {
   "codemirror_mode": {
    "name": "ipython",
    "version": 3
   },
   "file_extension": ".py",
   "mimetype": "text/x-python",
   "name": "python",
   "nbconvert_exporter": "python",
   "pygments_lexer": "ipython3",
   "version": "3.8.3"
  }
 },
 "nbformat": 4,
 "nbformat_minor": 4
}
