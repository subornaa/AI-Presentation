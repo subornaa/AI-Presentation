{
 "cells": [
  {
   "cell_type": "markdown",
   "id": "890dd99a-65fc-4a09-9f9c-719a74d221f6",
   "metadata": {},
   "source": [
    "# <div align=\"center\">Machine Learning Applications in Natural Resources</div>\n",
    "\n",
    "***\n",
    "\n",
    "<br>\n",
    "<br>\n",
    "<div style=\"text-align: center;\">\n",
    "     <strong>Table 1: Some Common Machine Learning Methods and Applications</strong>\n",
    "    </div>\n",
    "    <div style=\"text-align: center;\">\n",
    "<img src=https://i.imgur.com/bztd64m.jpg alt=\"image\" width=\"600\"/>\n",
    "</div>\n",
    "\n"
   ]
  },
  {
   "cell_type": "code",
   "execution_count": null,
   "id": "59cb4d82-aed7-4562-abd6-ef888aa8c086",
   "metadata": {},
   "outputs": [],
   "source": []
  },
  {
   "cell_type": "markdown",
   "id": "c069a22a-8bf3-4964-8b2e-8d30443ec04c",
   "metadata": {},
   "source": [
    "### ML in Ecology\n",
    "* Machine learning to forecast outbreaks of new diseases,  pattern recognition, and derive new hypothesis, as well as making predictions. "
   ]
  },
  {
   "cell_type": "markdown",
   "id": "c9bb6211-f60d-4633-b4b9-cc627d97bc2f",
   "metadata": {},
   "source": [
    "### ML in Forest Operations\n",
    "* Using massive data collected by harvest machines, ML techniques might look into what might be the pattern in the near future, and integrate information in automated machines and decision processes.\n",
    "* What data can be collected during harvest, and how it can improve practices in forest operations?"
   ]
  },
  {
   "cell_type": "markdown",
   "id": "eadc51e8-89db-4ca3-aa83-886e72eeb60c",
   "metadata": {},
   "source": [
    "### Estimating Merchantable Stem Volume\n",
    "<div style=\"text-align: center;\">\n",
    "<img src=https://www.for.gov.bc.ca/ftp/DCO/external/!publish/RecSitesTrails/SIGN_MAKER_RESOURCES/RSTBC_%20New_Logos/MFLNRO_%20no%20RSTBC.jpg width=\"400\">\n",
    "</div>\n",
    "\n",
    "* G.D. Nigh (2016) \"Total and merchantable volume equations for common tree species in British Columbia by region and biogeoclimatic zone.\" Technical Report-Ministry of Forests, Lands and Natural Resource Operations, British Columbia. https://www.for.gov.bc.ca/hfd/pubs/docs/TR/TR106.pdf\n",
    "</br>\n",
    "</br>\n",
    "</br>\n",
    "\n",
    "\n",
    "### Predicting Land Cover Type\n",
    "<div style=\"text-align: center;\">\n",
    "<img src=https://irss.sites.olt.ubc.ca/files/2016/08/annual_proxy.gif width=\"500\">\n",
    "    </div>\n",
    "\n",
    "* Land cover refers to the observed biotic and abiotic composition of Earth’s surface, which includes vegetation and anthropogenic structures.\n",
    "* Mapping land cover is critical to understand and monitor the status and conditions of ecosystems.\n",
    "* Remote sensing has emerged as a mature technology for mapping land cover across a range of spatial scales.\n",
    "* T. Hermosilla,  M.A. Wulder, J.C. White, N.C. Coops & G.W. Hobart \"Disturbance-informed annual land cover classification maps of Canada's forested ecosystems for a 29-year landsat time series.\" Canadian Journal of Remote Sensing, 44(1), pp. 67-87. https://doi.org/10.1080/07038992.2018.1437719\n",
    "</br>\n",
    "</br>\n",
    "</br>"
   ]
  },
  {
   "cell_type": "markdown",
   "id": "4c7b6a8b-e936-4407-96f1-30a038afa33c",
   "metadata": {},
   "source": [
    "### Application of Decision Tree Based Techniques to Veneer Processing\n",
    "https://jwoodscience.springeropen.com/articles/10.1186/s10086-020-01904-0\n",
    "\n",
    "* Application of Decision Tree Based Techniques to Veneer Processing\n",
    "![Decision_tree_paper.PNG](Decision_tree_paper.PNG)"
   ]
  },
  {
   "cell_type": "markdown",
   "id": "78b8f7ca-e42f-4368-a871-815e7c12cf00",
   "metadata": {},
   "source": [
    "![results_paper.PNG](results_paper.PNG)"
   ]
  }
 ],
 "metadata": {
  "kernelspec": {
   "display_name": "Python 3 (ipykernel)",
   "language": "python",
   "name": "python3"
  },
  "language_info": {
   "codemirror_mode": {
    "name": "ipython",
    "version": 3
   },
   "file_extension": ".py",
   "mimetype": "text/x-python",
   "name": "python",
   "nbconvert_exporter": "python",
   "pygments_lexer": "ipython3",
   "version": "3.8.3"
  }
 },
 "nbformat": 4,
 "nbformat_minor": 5
}
