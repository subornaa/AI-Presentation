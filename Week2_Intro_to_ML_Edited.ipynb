{
 "cells": [
  {
   "cell_type": "markdown",
   "id": "64ae8bd7",
   "metadata": {
    "tags": []
   },
   "source": [
    "# <div align=\"center\">Machine Learning Approaches in Natural Resources</div>\n",
    "\n",
    "***\n",
    "### Concepts, Techniques, and Prediction Models  \n",
    "* ML concepts and commonly used techniques in natural resources \n",
    "* Descriptive, Predictive, and Prescriptive analytics\n",
    "* Types of Machine Learning models and approaches\n",
    "    * Supervised vs. unsupervised learning\n",
    "    * Classification and regression tasks\n",
    "    \n",
    "### References\n",
    "* Géron, A. (2022). Hands-on Machine Learning with Scikit-Learn, Keras, and TensorFlow. O’Reilly Media, Sebastopol, CA. https://go.exlibris.link/x2Wfv2hq (Links to an external site.).\n",
    "    * Chapter \"1. The Machine Learning Landscape\"\n",
    "    * \"Performance Measures\" from Chapter \"3. Classification\"\n",
    "* James, G., Witten, D., Hastie, T., Tibshirani, R. (2021). Statistical Learning. In: An Introduction to Statistical Learning. Springer Texts in Statistics. Springer, New York, NY. https://doi.org/10.1007/978-1-0716-1418-1_2 (Links to an external site).\n",
    "    * Introduction (pp. 1-6) including \"An Overview of Statistical Learning\" and \"A Brief History of Statistical Learning\".\n",
    "    * \"2.1. What is Statistical Learning?\" pp. 15-29\n",
    "    * \"3.1 Simple Linear Regres\" (skip if familiar with this topic)\n",
    "    * \"4.1. An Overview of Classification\" and \"4.2. Why Not Linear Regression?\" from \"4. Classification.\" "
   ]
  },
  {
   "cell_type": "markdown",
   "id": "ae07b8ef",
   "metadata": {},
   "source": [
    "### Machine Learning (ML)\n",
    "* ML is the field of study that gives computers the ability to learn without being explicitly programmed (Samuel A. 1959)\n",
    "* Machine learning is a method of data analysis that automates analytical model building.\n",
    "* It is a branch of artificial intelligence based on the idea that systems can learn from data, identify patterns, and make decisions with minimal human intervention (SAS, 2022)\n",
    "\n",
    "### Statistical Learning (SL)\n",
    "* SL often tries to capture the relationship between predictor and response variables in mathematical equations.\n",
    "* The focus is more on hypothesis testing, as assumptions such as normality, multicollinearity, and homoscedasticity are typical in statistical learning. \n",
    "* The terms SL and ML are often used interchangeably. Others may argue that they are two different fields. \n",
    "* SL and ML highly overlap, as both deal with data analysis. Both fields deal with making predictions as well as the formalization of relationships between variables (inference). \n",
    "\n",
    "### Big Data\n",
    "* Big data is associated with machine learning.\n",
    "* Massive data sets are currently available due to continuous data gathering and storing, possibly due to advanced sensor and communication techniques.\n",
    "* Data sets are too large or complex to be dealt with by traditional data-processing applications and analysis with simple SL models.\n",
    "* Big data needs to be processed on multiple CPU cores on a single or multiple machines. \n",
    "\n",
    "### References\n",
    "* Jacobs, A. 2019. The pathologies of big data. Communications of the ACM, 52(), pp. 36-44.\n",
    "* James, G., Witten, D., Hastie, T., Tibshirani, R. (2021). Statistical Learning. In: An Introduction to Statistical Learning. Springer Texts in Statistics.\n",
    "* Samuel, A. 1959. Some studies in machine learning using the game of checkers. IBM Journal of Research and Development, 3(3), pp. 210-229.\n",
    "* SAS 2022. https://www.sas.com/en_ca/insights/analytics/machine-learning.html\n",
    "* Vapnik, V. 1999. The nature of statistical learning theory. Springer science & business media."
   ]
  },
  {
   "cell_type": "markdown",
   "id": "057fa20b",
   "metadata": {},
   "source": [
    "### Descriptive, Predictive, and Prescriptive Analytics\n",
    "\n",
    "<br>\n",
    "<div style=\"text-align: center;\">\n",
    "<img src=\"https://i.imgur.com/IOhrwzb.png\" alt=\"image\" width=\"400\"/>\n",
    "</div>\n",
    "<div style=\"text-align: center;\">\n",
    "     <strong>Figure 1: Selecting the Right Analysis: Exploring Descriptive, Predictive, and Prescriptive Approaches</strong>\n",
    "    </div>\n",
    "    <br>\n",
    "    <br>\n"
   ]
  },
  {
   "cell_type": "markdown",
   "id": "1e8e3d59",
   "metadata": {},
   "source": [
    "### Machine Learning Models\n",
    "\n",
    "#### Supervised vs. Unsupervised Learning\n",
    "\n",
    "<br>\n",
    "\n",
    "<div style=\"text-align: center;\">\n",
    "<img src=https://i.imgur.com/j3outR9.jpeg alt=\"image\" width=\"400\"/>\n",
    "</div>\n",
    "<div style=\"text-align: center;\">\n",
    "     <strong> Figure 2: Common Supervised and Unsupervised Machine Learning Algorithms</strong>\n",
    "    </div>\n",
    "    <br>\n",
    " \n",
    "\n",
    "\n",
    "#### Classification and Regression Tasks\n",
    "\n",
    "<div style=\"text-align: center;\">\n",
    "<img src=https://i.imgur.com/3lR3YAz.jpg alt=\"image\" width=\"400\"/>\n",
    "</div>\n",
    "<div style=\"text-align: center;\">\n",
    "     <strong> Figure 3: Common Machine Learning Algorithms for Classification and Regression Tasks</strong>\n",
    "    </div>\n",
    "    <br>\n",
    "                                                              "
   ]
  },
  {
   "cell_type": "markdown",
   "id": "7a34d646",
   "metadata": {},
   "source": [
    "### Generalization, Overfitting, and Underfitting\n",
    "\n",
    "* **Generalization:** The ability of a model to generalize from a training dataset and make accurate predictions on \"unseen\" data.\n",
    "* **Underfitting:** When a model is too simple to capture all the aspects of and variability in the dataset\n",
    "* **Overfitting:** When the model is too complex and it fits the noisiness of the training dataset too well\n",
    "\n",
    "<center>\n",
    "<div>\n",
    "<img src=https://i.imgur.com/2tNYGsN.jpg width=\"650\"/>\n",
    "</div>\n",
    "    <div style=\"text-align: center;\">\n",
    "     <strong> Figure 4: Underfitting, Balanced Fitting, and Overfitting in Machine Learning Algorithms</strong>\n",
    "    </div>\n",
    "    <br>\n",
    "    <br>\n",
    "    \n"
   ]
  },
  {
   "cell_type": "markdown",
   "id": "7ffab9a0-faac-447d-b521-1316e027b59d",
   "metadata": {},
   "source": [
    "**Questions to Consider:**\n",
    "> Which model would predict new, “unseen” data more successfully? <br>\n"
   ]
  }
 ],
 "metadata": {
  "kernelspec": {
   "display_name": "Python 3 (ipykernel)",
   "language": "python",
   "name": "python3"
  },
  "language_info": {
   "codemirror_mode": {
    "name": "ipython",
    "version": 3
   },
   "file_extension": ".py",
   "mimetype": "text/x-python",
   "name": "python",
   "nbconvert_exporter": "python",
   "pygments_lexer": "ipython3",
   "version": "3.8.3"
  },
  "toc": {
   "base_numbering": 1,
   "nav_menu": {},
   "number_sections": true,
   "sideBar": true,
   "skip_h1_title": false,
   "title_cell": "Table of Contents",
   "title_sidebar": "Contents",
   "toc_cell": false,
   "toc_position": {},
   "toc_section_display": true,
   "toc_window_display": false
  }
 },
 "nbformat": 4,
 "nbformat_minor": 5
}
